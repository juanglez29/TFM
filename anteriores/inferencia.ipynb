{
 "cells": [
  {
   "cell_type": "code",
   "execution_count": 10,
   "metadata": {},
   "outputs": [],
   "source": [
    "import pandas as pd\n",
    "import seaborn as sns\n",
    "import matplotlib.pyplot as plt\n",
    "import numpy as np\n",
    "from transformers import AutoTokenizer, AutoModelForSequenceClassification, DataCollatorWithPadding, TrainingArguments, Trainer\n",
    "import torch\n",
    "import tensorflow as tf\n",
    "from datasets import Dataset\n",
    "import tqdm as notebook_tqdm\n",
    "from sklearn.metrics import accuracy_score, precision_recall_fscore_support\n",
    "\n",
    "df_test = pd.read_csv(\"dataset ideology/politicES_phase_2_test_codalab.csv\", on_bad_lines='skip')\n",
    "df_test = df_test[:4000]"
   ]
  },
  {
   "cell_type": "code",
   "execution_count": 11,
   "metadata": {},
   "outputs": [
    {
     "data": {
      "text/html": [
       "<div>\n",
       "<style scoped>\n",
       "    .dataframe tbody tr th:only-of-type {\n",
       "        vertical-align: middle;\n",
       "    }\n",
       "\n",
       "    .dataframe tbody tr th {\n",
       "        vertical-align: top;\n",
       "    }\n",
       "\n",
       "    .dataframe thead th {\n",
       "        text-align: right;\n",
       "    }\n",
       "</style>\n",
       "<table border=\"1\" class=\"dataframe\">\n",
       "  <thead>\n",
       "    <tr style=\"text-align: right;\">\n",
       "      <th></th>\n",
       "      <th>gender</th>\n",
       "      <th>profession</th>\n",
       "      <th>ideology_binary</th>\n",
       "      <th>ideology_multiclass</th>\n",
       "      <th>tweet</th>\n",
       "    </tr>\n",
       "  </thead>\n",
       "  <tbody>\n",
       "    <tr>\n",
       "      <th>0</th>\n",
       "      <td>male</td>\n",
       "      <td>journalist</td>\n",
       "      <td>right</td>\n",
       "      <td>moderate_right</td>\n",
       "      <td>Ayer, en Guadalajara: feministas arrojaban áci...</td>\n",
       "    </tr>\n",
       "    <tr>\n",
       "      <th>1</th>\n",
       "      <td>male</td>\n",
       "      <td>journalist</td>\n",
       "      <td>right</td>\n",
       "      <td>moderate_right</td>\n",
       "      <td>“Chile Vamos”, o sea, la centro-derechita coba...</td>\n",
       "    </tr>\n",
       "    <tr>\n",
       "      <th>2</th>\n",
       "      <td>male</td>\n",
       "      <td>journalist</td>\n",
       "      <td>right</td>\n",
       "      <td>moderate_right</td>\n",
       "      <td>Se está tratando de silenciar que en Bolivia, ...</td>\n",
       "    </tr>\n",
       "    <tr>\n",
       "      <th>3</th>\n",
       "      <td>male</td>\n",
       "      <td>journalist</td>\n",
       "      <td>right</td>\n",
       "      <td>moderate_right</td>\n",
       "      <td>@user Lucía, lo siento pero no es así. Hebe ja...</td>\n",
       "    </tr>\n",
       "    <tr>\n",
       "      <th>4</th>\n",
       "      <td>male</td>\n",
       "      <td>journalist</td>\n",
       "      <td>right</td>\n",
       "      <td>moderate_right</td>\n",
       "      <td>JxC no dio quórum para eliminar el impuesto a ...</td>\n",
       "    </tr>\n",
       "    <tr>\n",
       "      <th>...</th>\n",
       "      <td>...</td>\n",
       "      <td>...</td>\n",
       "      <td>...</td>\n",
       "      <td>...</td>\n",
       "      <td>...</td>\n",
       "    </tr>\n",
       "    <tr>\n",
       "      <th>3995</th>\n",
       "      <td>male</td>\n",
       "      <td>politician</td>\n",
       "      <td>left</td>\n",
       "      <td>left</td>\n",
       "      <td>La diversidad y la pluralidad es una realidad ...</td>\n",
       "    </tr>\n",
       "    <tr>\n",
       "      <th>3996</th>\n",
       "      <td>male</td>\n",
       "      <td>politician</td>\n",
       "      <td>left</td>\n",
       "      <td>left</td>\n",
       "      <td>El doble rasero con el que se tratan los confl...</td>\n",
       "    </tr>\n",
       "    <tr>\n",
       "      <th>3997</th>\n",
       "      <td>male</td>\n",
       "      <td>politician</td>\n",
       "      <td>left</td>\n",
       "      <td>left</td>\n",
       "      <td>Esperando la condena de @user a los insultos q...</td>\n",
       "    </tr>\n",
       "    <tr>\n",
       "      <th>3998</th>\n",
       "      <td>male</td>\n",
       "      <td>politician</td>\n",
       "      <td>left</td>\n",
       "      <td>left</td>\n",
       "      <td>Un minuto. Un minuto esperando dentro de un Ro...</td>\n",
       "    </tr>\n",
       "    <tr>\n",
       "      <th>3999</th>\n",
       "      <td>male</td>\n",
       "      <td>politician</td>\n",
       "      <td>left</td>\n",
       "      <td>left</td>\n",
       "      <td>No puede haber animales de primera y animales ...</td>\n",
       "    </tr>\n",
       "  </tbody>\n",
       "</table>\n",
       "<p>4000 rows × 5 columns</p>\n",
       "</div>"
      ],
      "text/plain": [
       "     gender  profession ideology_binary ideology_multiclass  \\\n",
       "0      male  journalist           right      moderate_right   \n",
       "1      male  journalist           right      moderate_right   \n",
       "2      male  journalist           right      moderate_right   \n",
       "3      male  journalist           right      moderate_right   \n",
       "4      male  journalist           right      moderate_right   \n",
       "...     ...         ...             ...                 ...   \n",
       "3995   male  politician            left                left   \n",
       "3996   male  politician            left                left   \n",
       "3997   male  politician            left                left   \n",
       "3998   male  politician            left                left   \n",
       "3999   male  politician            left                left   \n",
       "\n",
       "                                                  tweet  \n",
       "0     Ayer, en Guadalajara: feministas arrojaban áci...  \n",
       "1     “Chile Vamos”, o sea, la centro-derechita coba...  \n",
       "2     Se está tratando de silenciar que en Bolivia, ...  \n",
       "3     @user Lucía, lo siento pero no es así. Hebe ja...  \n",
       "4     JxC no dio quórum para eliminar el impuesto a ...  \n",
       "...                                                 ...  \n",
       "3995  La diversidad y la pluralidad es una realidad ...  \n",
       "3996  El doble rasero con el que se tratan los confl...  \n",
       "3997  Esperando la condena de @user a los insultos q...  \n",
       "3998  Un minuto. Un minuto esperando dentro de un Ro...  \n",
       "3999  No puede haber animales de primera y animales ...  \n",
       "\n",
       "[4000 rows x 5 columns]"
      ]
     },
     "execution_count": 11,
     "metadata": {},
     "output_type": "execute_result"
    }
   ],
   "source": [
    "df_test.drop('label', axis=1, inplace=True) \n",
    "df_test"
   ]
  },
  {
   "cell_type": "code",
   "execution_count": 12,
   "metadata": {},
   "outputs": [
    {
     "name": "stderr",
     "output_type": "stream",
     "text": [
      "tokenizer.json: 100%|██████████| 1.28M/1.28M [00:00<00:00, 5.40MB/s]\n",
      "model.safetensors: 100%|██████████| 436M/436M [00:35<00:00, 12.4MB/s] \n"
     ]
    }
   ],
   "source": [
    "\n",
    "# Initialize the tokenizer\n",
    "checkpoint_name= 'juan-glez29/ideology_ft'\n",
    "tokenizer = AutoTokenizer.from_pretrained(checkpoint_name)\n",
    "# Initialize the model\n",
    "model = AutoModelForSequenceClassification.from_pretrained(checkpoint_name)"
   ]
  },
  {
   "cell_type": "code",
   "execution_count": 13,
   "metadata": {},
   "outputs": [],
   "source": [
    "from sklearn.preprocessing import LabelEncoder\n",
    "\n",
    "label_encoder = LabelEncoder()\n",
    "df_test['ideology_multiclass'] = label_encoder.fit_transform(df_test['ideology_multiclass'])"
   ]
  },
  {
   "cell_type": "code",
   "execution_count": 14,
   "metadata": {},
   "outputs": [
    {
     "data": {
      "text/plain": [
       "Dataset({\n",
       "    features: ['gender', 'profession', 'ideology_binary', 'ideology_multiclass', 'tweet'],\n",
       "    num_rows: 4000\n",
       "})"
      ]
     },
     "execution_count": 14,
     "metadata": {},
     "output_type": "execute_result"
    }
   ],
   "source": [
    "def tokenize_function(example):\n",
    "    return tokenizer(example['tweet'], truncation=True)\n",
    "\n",
    "# Conversión del DataFrame de pandas a un Dataset de Hugging Face para pasarlo al modelo\n",
    "huggingface_dataset = Dataset.from_pandas(df_test)\n",
    "huggingface_dataset"
   ]
  },
  {
   "cell_type": "code",
   "execution_count": 15,
   "metadata": {},
   "outputs": [
    {
     "name": "stderr",
     "output_type": "stream",
     "text": [
      "Map:   0%|          | 0/4000 [00:00<?, ? examples/s]Asking to truncate to max_length but no maximum length is provided and the model has no predefined maximum length. Default to no truncation.\n",
      "Map: 100%|██████████| 4000/4000 [00:00<00:00, 14835.80 examples/s]\n"
     ]
    }
   ],
   "source": [
    "# Aplicamos la tokenización a todo el dataset\n",
    "tokenized_dataset = huggingface_dataset.map(tokenize_function, batched=True)\n",
    "tokenized_dataset = tokenized_dataset.remove_columns([\"tweet\",\"gender\",\"profession\",\"ideology_binary\"]) \n",
    "test_dataset = tokenized_dataset.rename_column(\"ideology_multiclass\", \"labels\") "
   ]
  },
  {
   "cell_type": "code",
   "execution_count": 16,
   "metadata": {},
   "outputs": [
    {
     "data": {
      "text/plain": [
       "Dataset({\n",
       "    features: ['labels', 'input_ids', 'attention_mask'],\n",
       "    num_rows: 4000\n",
       "})"
      ]
     },
     "execution_count": 16,
     "metadata": {},
     "output_type": "execute_result"
    }
   ],
   "source": [
    "test_dataset"
   ]
  },
  {
   "cell_type": "code",
   "execution_count": 17,
   "metadata": {},
   "outputs": [
    {
     "name": "stderr",
     "output_type": "stream",
     "text": [
      "You're using a RobertaTokenizerFast tokenizer. Please note that with a fast tokenizer, using the `__call__` method is faster than using a method to encode the text followed by a call to the `pad` method to get a padded encoding.\n",
      "100%|██████████| 500/500 [02:07<00:00,  3.91it/s]"
     ]
    },
    {
     "name": "stdout",
     "output_type": "stream",
     "text": [
      "Accuracy:\t0.47925\n",
      "Precision:\t0.5026765356903358\n",
      "Recall:\t\t0.47925\n",
      "F1-Score:\t0.476947635928816\n"
     ]
    },
    {
     "name": "stderr",
     "output_type": "stream",
     "text": [
      "\n"
     ]
    }
   ],
   "source": [
    "# Define test trainer\n",
    "data_collator = DataCollatorWithPadding(tokenizer=tokenizer) \n",
    "test_trainer = Trainer(model, data_collator=data_collator, tokenizer=tokenizer)\n",
    "\n",
    "predicted_results = test_trainer.predict(test_dataset)\n",
    "\n",
    "# Preprocess raw predictions\n",
    "y_pred = predicted_results.predictions.argmax(-1) # Get the highest probability prediction\n",
    "\n",
    "# Calculate accuracy\n",
    "labels = test_dataset[\"labels\"]\n",
    "print(f\"Accuracy:\\t{accuracy_score(y_true=labels, y_pred=y_pred)}\")\n",
    "\n",
    "precision, recall, f1, _ = precision_recall_fscore_support(y_true=labels, y_pred=y_pred, average='weighted') # o weighted si estan desbalceadas las clases\n",
    "print(f\"Precision:\\t{precision}\")\n",
    "print(f\"Recall:\\t\\t{recall}\")\n",
    "print(f\"F1-Score:\\t{f1}\")"
   ]
  },
  {
   "cell_type": "code",
   "execution_count": 18,
   "metadata": {},
   "outputs": [],
   "source": [
    "# # Tokenize text inputs\n",
    "# tokenized_inputs = tokenizer(df_test['tweet'][100], return_tensors=\"pt\")\n",
    "\n",
    "# # Pass tokenized inputs through the Transformer model\n",
    "# outputs = model(**tokenized_inputs)\n",
    "\n",
    "# # Get predictions\n",
    "# labels = ['izq', 'izq_mod', 'dcha_mod', 'dcha']\n",
    "# prediction = torch.argmax(outputs.logits)\n",
    "\n",
    "# print(outputs)\n",
    "\n",
    "# print(f\"The prediction is {labels[prediction]}\")"
   ]
  }
 ],
 "metadata": {
  "kernelspec": {
   "display_name": "master",
   "language": "python",
   "name": "python3"
  },
  "language_info": {
   "codemirror_mode": {
    "name": "ipython",
    "version": 3
   },
   "file_extension": ".py",
   "mimetype": "text/x-python",
   "name": "python",
   "nbconvert_exporter": "python",
   "pygments_lexer": "ipython3",
   "version": "3.11.7"
  }
 },
 "nbformat": 4,
 "nbformat_minor": 2
}

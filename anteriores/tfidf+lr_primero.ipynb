{
 "cells": [
  {
   "cell_type": "code",
   "execution_count": null,
   "metadata": {},
   "outputs": [],
   "source": [
    "import pandas as pd\n",
    "import spacy\n",
    "\n",
    "df_train= pd.read_csv(\"/Users/juan/Desktop/TFM/politicES_phase_2_train_public.csv\", on_bad_lines='skip')\n",
    "df_test= pd.read_csv(\"/Users/juan/Desktop/TFM/politicES_phase_2_test_codalab.csv\", on_bad_lines='skip')\n",
    "df_train.drop('label', axis=1, inplace=True)  \n",
    "df_test.drop('label', axis=1, inplace=True)"
   ]
  },
  {
   "cell_type": "code",
   "execution_count": null,
   "metadata": {},
   "outputs": [],
   "source": [
    "# Agrupar los tweets por 'label' y 'ideology_multiclass' y luego concatenar los tweets\n",
    "df_train= df_train.groupby(['label', 'ideology_multiclass'])['tweet'].apply(' '.join).reset_index()\n",
    "df_test= df_train.groupby(['label', 'ideology_multiclass'])['tweet'].apply(' '.join).reset_index()"
   ]
  },
  {
   "cell_type": "code",
   "execution_count": 2,
   "metadata": {},
   "outputs": [],
   "source": [
    "nlp = spacy.load('es_core_news_sm')\n",
    "\n",
    "def preprocess_text(tweet):\n",
    "    # Procesa el tweet usando el modelo de spaCy\n",
    "    doc = nlp(tweet)\n",
    "    # Lematiza y elimina stopwords\n",
    "    tokens = [token.lemma_ for token in doc if not token.is_stop]\n",
    "    return ' '.join(tokens)"
   ]
  },
  {
   "cell_type": "code",
   "execution_count": 3,
   "metadata": {},
   "outputs": [],
   "source": [
    "df_train['clean_tweet'] = df_train['tweet'].apply(preprocess_text)\n",
    "df_test['clean_tweet'] = df_test['tweet'].apply(preprocess_text)"
   ]
  },
  {
   "cell_type": "code",
   "execution_count": 4,
   "metadata": {},
   "outputs": [],
   "source": [
    "from sklearn.feature_extraction.text import TfidfVectorizer\n",
    "from sklearn.linear_model import LogisticRegression\n",
    "from sklearn.metrics import classification_report, f1_score\n",
    "\n",
    "# Suponiendo que df_train y df_test son tus DataFrames\n",
    "\n",
    "# Inicializar el vectorizador TF-IDF\n",
    "vectorizador = TfidfVectorizer()\n",
    "\n",
    "# Ajustar el vectorizador al conjunto de entrenamiento y transformarlo\n",
    "X_train_tfidf = vectorizador.fit_transform(df_train['clean_tweet'])\n",
    "# Transformar el conjunto de prueba usando el mismo vectorizador\n",
    "X_test_tfidf = vectorizador.transform(df_test['clean_tweet'])\n",
    "\n",
    "# Definir las etiquetas de entrenamiento y prueba\n",
    "y_train = df_train['ideology_multiclass']\n",
    "y_test = df_test['ideology_multiclass']\n",
    "\n",
    "# Crear e instanciar el modelo de regresión logística\n",
    "logistic_model = LogisticRegression(solver='liblinear')  # Usando liblinear que es bueno para conjuntos de datos pequeños y medianos\n",
    "logistic_model.fit(X_train_tfidf, y_train)\n",
    "\n",
    "# Realizar la predicción\n",
    "y_pred = logistic_model.predict(X_test_tfidf)\n",
    "\n",
    "# Calcular y mostrar el F1 score y el informe de clasificación\n",
    "macro_f1 = f1_score(y_test, y_pred, average='macro')\n",
    "print(macro_f1)\n",
    "print(classification_report(y_test, y_pred))\n"
   ]
  }
 ],
 "metadata": {
  "kernelspec": {
   "display_name": "master",
   "language": "python",
   "name": "python3"
  },
  "language_info": {
   "codemirror_mode": {
    "name": "ipython",
    "version": 3
   },
   "file_extension": ".py",
   "mimetype": "text/x-python",
   "name": "python",
   "nbconvert_exporter": "python",
   "pygments_lexer": "ipython3",
   "version": "3.11.7"
  }
 },
 "nbformat": 4,
 "nbformat_minor": 2
}

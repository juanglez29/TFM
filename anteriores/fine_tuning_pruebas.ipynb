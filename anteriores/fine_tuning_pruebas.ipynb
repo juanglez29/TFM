{
 "cells": [
  {
   "cell_type": "code",
   "execution_count": 220,
   "metadata": {},
   "outputs": [],
   "source": [
    "import pandas as pd\n",
    "import seaborn as sns\n",
    "import matplotlib.pyplot as plt\n",
    "import numpy as np\n",
    "import random\n",
    "\n",
    "df_train = pd.read_csv(\"politicES_phase_2_train_public.csv\", on_bad_lines='skip')\n",
    "\n",
    "df_train.drop(['label'], axis=1, inplace=True) \n",
    "indices_aleatorios = random.sample(range(len(df_train)), 6000)\n",
    "df_train = df_train.iloc[indices_aleatorios]"
   ]
  },
  {
   "cell_type": "code",
   "execution_count": 221,
   "metadata": {},
   "outputs": [],
   "source": [
    "df_train['tweet'] = df_train.apply(lambda row: row['gender'] + \" \" + row['profession']+ \" \" + row['ideology_binary']+ \" \" + row['tweet'], axis=1)\n",
    "df_train.drop(['ideology_binary','gender','profession'], axis=1, inplace=True) "
   ]
  },
  {
   "cell_type": "code",
   "execution_count": 222,
   "metadata": {},
   "outputs": [
    {
     "data": {
      "text/html": [
       "<div>\n",
       "<style scoped>\n",
       "    .dataframe tbody tr th:only-of-type {\n",
       "        vertical-align: middle;\n",
       "    }\n",
       "\n",
       "    .dataframe tbody tr th {\n",
       "        vertical-align: top;\n",
       "    }\n",
       "\n",
       "    .dataframe thead th {\n",
       "        text-align: right;\n",
       "    }\n",
       "</style>\n",
       "<table border=\"1\" class=\"dataframe\">\n",
       "  <thead>\n",
       "    <tr style=\"text-align: right;\">\n",
       "      <th></th>\n",
       "      <th>ideology_multiclass</th>\n",
       "      <th>tweet</th>\n",
       "    </tr>\n",
       "  </thead>\n",
       "  <tbody>\n",
       "    <tr>\n",
       "      <th>20757</th>\n",
       "      <td>moderate_right</td>\n",
       "      <td>male journalist right No hay nada más antidemo...</td>\n",
       "    </tr>\n",
       "    <tr>\n",
       "      <th>125202</th>\n",
       "      <td>moderate_right</td>\n",
       "      <td>male journalist right Objetivo, destruir el «C...</td>\n",
       "    </tr>\n",
       "    <tr>\n",
       "      <th>78746</th>\n",
       "      <td>moderate_left</td>\n",
       "      <td>male journalist left . Cualquier ocasión es bu...</td>\n",
       "    </tr>\n",
       "    <tr>\n",
       "      <th>38956</th>\n",
       "      <td>left</td>\n",
       "      <td>female journalist left Dejo esto por aquí. Por...</td>\n",
       "    </tr>\n",
       "    <tr>\n",
       "      <th>33499</th>\n",
       "      <td>left</td>\n",
       "      <td>female politician left Cuidado con que las muj...</td>\n",
       "    </tr>\n",
       "    <tr>\n",
       "      <th>...</th>\n",
       "      <td>...</td>\n",
       "      <td>...</td>\n",
       "    </tr>\n",
       "    <tr>\n",
       "      <th>68413</th>\n",
       "      <td>moderate_right</td>\n",
       "      <td>male journalist right @user El Ministerio de D...</td>\n",
       "    </tr>\n",
       "    <tr>\n",
       "      <th>79482</th>\n",
       "      <td>moderate_right</td>\n",
       "      <td>male journalist right @user Las campañas munic...</td>\n",
       "    </tr>\n",
       "    <tr>\n",
       "      <th>161370</th>\n",
       "      <td>moderate_left</td>\n",
       "      <td>female journalist left Aunque las unidades de ...</td>\n",
       "    </tr>\n",
       "    <tr>\n",
       "      <th>134752</th>\n",
       "      <td>moderate_left</td>\n",
       "      <td>male journalist left La CEOE podría llamarse a...</td>\n",
       "    </tr>\n",
       "    <tr>\n",
       "      <th>141336</th>\n",
       "      <td>left</td>\n",
       "      <td>female journalist left Alegría por la derrota ...</td>\n",
       "    </tr>\n",
       "  </tbody>\n",
       "</table>\n",
       "<p>6000 rows × 2 columns</p>\n",
       "</div>"
      ],
      "text/plain": [
       "       ideology_multiclass                                              tweet\n",
       "20757       moderate_right  male journalist right No hay nada más antidemo...\n",
       "125202      moderate_right  male journalist right Objetivo, destruir el «C...\n",
       "78746        moderate_left  male journalist left . Cualquier ocasión es bu...\n",
       "38956                 left  female journalist left Dejo esto por aquí. Por...\n",
       "33499                 left  female politician left Cuidado con que las muj...\n",
       "...                    ...                                                ...\n",
       "68413       moderate_right  male journalist right @user El Ministerio de D...\n",
       "79482       moderate_right  male journalist right @user Las campañas munic...\n",
       "161370       moderate_left  female journalist left Aunque las unidades de ...\n",
       "134752       moderate_left  male journalist left La CEOE podría llamarse a...\n",
       "141336                left  female journalist left Alegría por la derrota ...\n",
       "\n",
       "[6000 rows x 2 columns]"
      ]
     },
     "execution_count": 222,
     "metadata": {},
     "output_type": "execute_result"
    }
   ],
   "source": [
    "df_train"
   ]
  },
  {
   "cell_type": "markdown",
   "metadata": {},
   "source": [
    "##  Clasificador"
   ]
  },
  {
   "cell_type": "code",
   "execution_count": 223,
   "metadata": {},
   "outputs": [
    {
     "name": "stderr",
     "output_type": "stream",
     "text": [
      "All TF 2.0 model weights were used when initializing RobertaForSequenceClassification.\n",
      "\n",
      "All the weights of RobertaForSequenceClassification were initialized from the TF 2.0 model.\n",
      "If your task is similar to the task the model of the checkpoint was trained on, you can already use RobertaForSequenceClassification for predictions without further training.\n"
     ]
    }
   ],
   "source": [
    "from transformers import AutoTokenizer, AutoModelForSequenceClassification, generation, DataCollatorWithPadding, TrainingArguments, Trainer, EarlyStoppingCallback\n",
    "import torch\n",
    "import tensorflow as tf\n",
    "from datasets import Dataset\n",
    "import tqdm as notebook_tqdm\n",
    "\n",
    "model_name = 'AIDA-UPM/BERTuit-base'\n",
    "tokenizer = AutoTokenizer.from_pretrained(model_name)\n",
    "model = AutoModelForSequenceClassification.from_pretrained(model_name, num_labels=4, from_tf=True)\n"
   ]
  },
  {
   "cell_type": "code",
   "execution_count": 224,
   "metadata": {},
   "outputs": [],
   "source": [
    "from sklearn.preprocessing import LabelEncoder\n",
    "\n",
    "label_encoder = LabelEncoder()\n",
    "\n",
    "df_train['ideology_multiclass'] = label_encoder.fit_transform(df_train['ideology_multiclass'])"
   ]
  },
  {
   "cell_type": "code",
   "execution_count": 225,
   "metadata": {},
   "outputs": [],
   "source": [
    "df_train['tweet'] = df_train['tweet'].apply(lambda x: x.replace(\"@user\", \"<usr>\"))"
   ]
  },
  {
   "cell_type": "code",
   "execution_count": 226,
   "metadata": {},
   "outputs": [
    {
     "data": {
      "text/plain": [
       "Dataset({\n",
       "    features: ['ideology_multiclass', 'tweet', '__index_level_0__'],\n",
       "    num_rows: 6000\n",
       "})"
      ]
     },
     "execution_count": 226,
     "metadata": {},
     "output_type": "execute_result"
    }
   ],
   "source": [
    "def tokenize_function(example):\n",
    "    return tokenizer(example['tweet'])\n",
    "\n",
    "huggingface_dataset = Dataset.from_pandas(df_train)\n",
    "huggingface_dataset"
   ]
  },
  {
   "cell_type": "code",
   "execution_count": 218,
   "metadata": {},
   "outputs": [],
   "source": [
    "# # Función para tokenizar el dataset\n",
    "# def tokenize_function(example):\n",
    "#     return tokenizer(example['gender'], \n",
    "#                       example['profession'],\n",
    "#                       example['ideology_binary'], \n",
    "#                       example['tweet'],\n",
    "                    \n",
    "#                       )\n",
    "\n",
    "# # Conversión del DataFrame de pandas a un Dataset de Hugging Face para pasarlo al modelo\n",
    "# huggingface_dataset = Dataset.from_pandas(df_train)\n",
    "# huggingface_dataset"
   ]
  },
  {
   "cell_type": "code",
   "execution_count": 227,
   "metadata": {},
   "outputs": [
    {
     "name": "stderr",
     "output_type": "stream",
     "text": [
      "Map: 100%|██████████| 6000/6000 [00:00<00:00, 16585.63 examples/s]\n"
     ]
    },
    {
     "data": {
      "text/plain": [
       "Dataset({\n",
       "    features: ['ideology_multiclass', 'tweet', '__index_level_0__', 'input_ids', 'attention_mask'],\n",
       "    num_rows: 6000\n",
       "})"
      ]
     },
     "execution_count": 227,
     "metadata": {},
     "output_type": "execute_result"
    }
   ],
   "source": [
    "# Aplicamos la tokenización a todo el dataset\n",
    "tokenized_dataset = huggingface_dataset.map(tokenize_function, batched=True)\n",
    "tokenized_dataset"
   ]
  },
  {
   "cell_type": "code",
   "execution_count": 228,
   "metadata": {},
   "outputs": [
    {
     "data": {
      "text/plain": [
       "Dataset({\n",
       "    features: ['labels', 'input_ids', 'attention_mask'],\n",
       "    num_rows: 6000\n",
       "})"
      ]
     },
     "execution_count": 228,
     "metadata": {},
     "output_type": "execute_result"
    }
   ],
   "source": [
    "tokenized_dataset = tokenized_dataset.rename_column(\"ideology_multiclass\", \"labels\") \n",
    "tokenized_dataset = tokenized_dataset.remove_columns([\"tweet\",\"__index_level_0__\"])  # Nos quedamos solo con los valores que necesita el modelo\n",
    "tokenized_dataset"
   ]
  },
  {
   "cell_type": "code",
   "execution_count": 229,
   "metadata": {},
   "outputs": [],
   "source": [
    "# # We can pass multiple strings into the tokenizer and pad them as we need\n",
    "# model_inputs = tokenizer([\"female\", \"politician\",\"moderate_right\",\"right\",\n",
    "#                           \"female politician left Hemos alcanzado el máximo histórico en la tasa de graduación en ESO (84% de los alumnos). ✅ Mejoramos el nivel educativo en España. ✅ Mayor transición hacia las etapas postobligatorias. ✅ Reducimos el abandono temprano.\",\n",
    "#                          ],\n",
    "#                          return_tensors=\"pt\",\n",
    "#                          padding=True,\n",
    "#                          )\n",
    "# print(\"Pad token:\", tokenizer.pad_token)\n",
    "# print(\"Pad token id:\" , tokenizer.pad_token_id)\n",
    "# print(\"Padding:\")\n",
    "# print(model_inputs)"
   ]
  },
  {
   "cell_type": "code",
   "execution_count": 230,
   "metadata": {},
   "outputs": [],
   "source": [
    "from datasets import DatasetDict\n",
    "\n",
    "# Dividimos los datos en entrenamiento y validación. Dejamos un 30% del dataset para validación y test\n",
    "train_test_split = tokenized_dataset.train_test_split(test_size=0.2)\n",
    "# test_valid_split = train_test_split['test'].train_test_split(test_size=0.66) # Dividimos entre conjunto de validación y test\n",
    "\n",
    "# Creamos un DatasetDict para organizar los subconjuntos\n",
    "final_datasets = DatasetDict({\n",
    "    'train': train_test_split['train'],\n",
    "    'validation': train_test_split['test'],\n",
    "     \n",
    "})\n",
    "\n",
    "data_collator = DataCollatorWithPadding(tokenizer=tokenizer)  # Introducimos el data collator para trabajar con padding dinámico\n"
   ]
  },
  {
   "cell_type": "code",
   "execution_count": 231,
   "metadata": {},
   "outputs": [
    {
     "name": "stderr",
     "output_type": "stream",
     "text": [
      "  0%|          | 0/600 [00:00<?, ?it/s]You're using a RobertaTokenizerFast tokenizer. Please note that with a fast tokenizer, using the `__call__` method is faster than using a method to encode the text followed by a call to the `pad` method to get a padded encoding.\n",
      " 16%|█▌        | 93/600 [05:00<27:37,  3.27s/it]"
     ]
    },
    {
     "name": "stdout",
     "output_type": "stream",
     "text": [
      "{'loss': 0.8667, 'learning_rate': 1.69e-05, 'epoch': 0.31}\n"
     ]
    },
    {
     "name": "stderr",
     "output_type": "stream",
     "text": [
      "/Users/juan/miniconda3/envs/master/lib/python3.11/site-packages/sklearn/metrics/_classification.py:1469: UndefinedMetricWarning: Precision and F-score are ill-defined and being set to 0.0 in labels with no predicted samples. Use `zero_division` parameter to control this behavior.\n",
      "  _warn_prf(average, modifier, msg_start, len(result))\n",
      "\n",
      " 16%|█▌        | 93/600 [05:54<27:37,  3.27s/it]"
     ]
    },
    {
     "name": "stdout",
     "output_type": "stream",
     "text": [
      "{'eval_loss': 0.622002124786377, 'eval_accuracy': 0.6841666666666667, 'eval_f1': 0.5566204047914085, 'eval_precision': 0.46989718105543793, 'eval_recall': 0.6841666666666667, 'eval_runtime': 54.2925, 'eval_samples_per_second': 22.102, 'eval_steps_per_second': 1.381, 'epoch': 0.31}\n"
     ]
    },
    {
     "name": "stderr",
     "output_type": "stream",
     "text": [
      " 31%|███       | 186/600 [10:50<21:44,  3.15s/it] "
     ]
    },
    {
     "name": "stdout",
     "output_type": "stream",
     "text": [
      "{'loss': 0.6257, 'learning_rate': 1.38e-05, 'epoch': 0.62}\n"
     ]
    },
    {
     "name": "stderr",
     "output_type": "stream",
     "text": [
      "/Users/juan/miniconda3/envs/master/lib/python3.11/site-packages/sklearn/metrics/_classification.py:1469: UndefinedMetricWarning: Precision and F-score are ill-defined and being set to 0.0 in labels with no predicted samples. Use `zero_division` parameter to control this behavior.\n",
      "  _warn_prf(average, modifier, msg_start, len(result))\n",
      "\n",
      " 31%|███       | 186/600 [11:44<21:44,  3.15s/it]"
     ]
    },
    {
     "name": "stdout",
     "output_type": "stream",
     "text": [
      "{'eval_loss': 0.5984419584274292, 'eval_accuracy': 0.6883333333333334, 'eval_f1': 0.571551316920622, 'eval_precision': 0.6061508960358414, 'eval_recall': 0.6883333333333334, 'eval_runtime': 54.0914, 'eval_samples_per_second': 22.185, 'eval_steps_per_second': 1.387, 'epoch': 0.62}\n"
     ]
    },
    {
     "name": "stderr",
     "output_type": "stream",
     "text": [
      " 46%|████▋     | 279/600 [16:39<14:08,  2.64s/it]  "
     ]
    },
    {
     "name": "stdout",
     "output_type": "stream",
     "text": [
      "{'loss': 0.5884, 'learning_rate': 1.0700000000000001e-05, 'epoch': 0.93}\n"
     ]
    },
    {
     "name": "stderr",
     "output_type": "stream",
     "text": [
      "\n",
      " 46%|████▋     | 279/600 [17:31<14:08,  2.64s/it]"
     ]
    },
    {
     "name": "stdout",
     "output_type": "stream",
     "text": [
      "{'eval_loss': 0.5608683228492737, 'eval_accuracy': 0.7275, 'eval_f1': 0.7150274468206635, 'eval_precision': 0.7137887804042471, 'eval_recall': 0.7275, 'eval_runtime': 52.1696, 'eval_samples_per_second': 23.002, 'eval_steps_per_second': 1.438, 'epoch': 0.93}\n"
     ]
    },
    {
     "name": "stderr",
     "output_type": "stream",
     "text": [
      " 62%|██████▏   | 372/600 [22:17<10:10,  2.68s/it]  "
     ]
    },
    {
     "name": "stdout",
     "output_type": "stream",
     "text": [
      "{'loss': 0.5534, 'learning_rate': 7.600000000000001e-06, 'epoch': 1.24}\n"
     ]
    },
    {
     "name": "stderr",
     "output_type": "stream",
     "text": [
      "\n",
      " 62%|██████▏   | 372/600 [23:11<10:10,  2.68s/it]"
     ]
    },
    {
     "name": "stdout",
     "output_type": "stream",
     "text": [
      "{'eval_loss': 0.5450950264930725, 'eval_accuracy': 0.7316666666666667, 'eval_f1': 0.7112103370545928, 'eval_precision': 0.7158505025804203, 'eval_recall': 0.7316666666666667, 'eval_runtime': 53.4099, 'eval_samples_per_second': 22.468, 'eval_steps_per_second': 1.404, 'epoch': 1.24}\n"
     ]
    },
    {
     "name": "stderr",
     "output_type": "stream",
     "text": [
      " 78%|███████▊  | 465/600 [27:55<05:51,  2.60s/it]  "
     ]
    },
    {
     "name": "stdout",
     "output_type": "stream",
     "text": [
      "{'loss': 0.5365, 'learning_rate': 4.5e-06, 'epoch': 1.55}\n"
     ]
    },
    {
     "name": "stderr",
     "output_type": "stream",
     "text": [
      "\n",
      " 78%|███████▊  | 465/600 [28:51<05:51,  2.60s/it]"
     ]
    },
    {
     "name": "stdout",
     "output_type": "stream",
     "text": [
      "{'eval_loss': 0.544938325881958, 'eval_accuracy': 0.7241666666666666, 'eval_f1': 0.6775312906115808, 'eval_precision': 0.6963849946569084, 'eval_recall': 0.7241666666666666, 'eval_runtime': 55.2365, 'eval_samples_per_second': 21.725, 'eval_steps_per_second': 1.358, 'epoch': 1.55}\n"
     ]
    },
    {
     "name": "stderr",
     "output_type": "stream",
     "text": [
      " 93%|█████████▎| 558/600 [33:06<02:00,  2.88s/it]"
     ]
    },
    {
     "name": "stdout",
     "output_type": "stream",
     "text": [
      "{'loss': 0.5288, 'learning_rate': 1.4000000000000001e-06, 'epoch': 1.86}\n"
     ]
    },
    {
     "name": "stderr",
     "output_type": "stream",
     "text": [
      "\n",
      " 93%|█████████▎| 558/600 [34:02<02:00,  2.88s/it]"
     ]
    },
    {
     "name": "stdout",
     "output_type": "stream",
     "text": [
      "{'eval_loss': 0.5283421874046326, 'eval_accuracy': 0.7425, 'eval_f1': 0.7274775130425714, 'eval_precision': 0.728456991827415, 'eval_recall': 0.7425, 'eval_runtime': 55.6338, 'eval_samples_per_second': 21.57, 'eval_steps_per_second': 1.348, 'epoch': 1.86}\n"
     ]
    },
    {
     "name": "stderr",
     "output_type": "stream",
     "text": [
      "100%|██████████| 600/600 [36:11<00:00,  3.62s/it]\n"
     ]
    },
    {
     "name": "stdout",
     "output_type": "stream",
     "text": [
      "{'train_runtime': 2171.1917, 'train_samples_per_second': 4.422, 'train_steps_per_second': 0.276, 'train_loss': 0.6103510729471843, 'epoch': 2.0}\n"
     ]
    },
    {
     "data": {
      "image/png": "[encoded data removed]",
      "text/plain": [
       "<Figure size 1000x600 with 1 Axes>"
      ]
     },
     "metadata": {},
     "output_type": "display_data"
    }
   ],
   "source": [
    "\n",
    "from sklearn.metrics import accuracy_score, precision_recall_fscore_support\n",
    "import matplotlib.pyplot as plt\n",
    "\n",
    "# Definimos la función encargada de evaluar las métricas en el entrenamiento\n",
    "def compute_metrics(p):\n",
    "    predictions, labels = p\n",
    "    predictions = np.argmax(predictions, axis=-1)\n",
    "    acc = accuracy_score(labels, predictions)\n",
    "    precision, recall, f1, _ = precision_recall_fscore_support(labels, predictions, average='weighted') #weighted si desbalanceada\n",
    "    return {'accuracy': acc, 'f1': f1, 'precision': precision, 'recall': recall}\n",
    "\n",
    "\n",
    "\n",
    "# Definimos los argumentos de entrenamiento\n",
    "training_args = TrainingArguments(\n",
    "    output_dir='./results',\n",
    "    num_train_epochs=2,\n",
    "    per_device_train_batch_size=16,\n",
    "    per_device_eval_batch_size=16,\n",
    "    learning_rate=2e-5,\n",
    "    weight_decay=0.01,\n",
    "    evaluation_strategy='steps',\n",
    "    eval_steps=93,\n",
    "    save_strategy='steps',\n",
    "    save_steps=93,\n",
    "    logging_strategy='steps',\n",
    "    logging_dir='./logs',\n",
    "    logging_steps=93,\n",
    "    load_best_model_at_end=True,\n",
    "    seed=42,\n",
    ")\n",
    "\n",
    "# Inicializamos el Trainer\n",
    "trainer = Trainer(\n",
    "    model=model,\n",
    "    args=training_args,\n",
    "    train_dataset=final_datasets['train'],\n",
    "    eval_dataset=final_datasets['validation'],\n",
    "    compute_metrics=compute_metrics,\n",
    "    data_collator=data_collator,\n",
    "    tokenizer=tokenizer,\n",
    "    callbacks = [EarlyStoppingCallback(early_stopping_patience=1, early_stopping_threshold=0)]\n",
    ")\n",
    "\n",
    "# Entrenamiento y evaluación\n",
    "trainer.train()\n",
    "training_stats = trainer.state.log_history\n",
    "\n",
    "# Representación de las pérdidas a lo largo de las épocas\n",
    "training_loss = [e['loss'] for e in training_stats if 'loss' in e]\n",
    "validation_loss = [e['eval_loss'] for e in training_stats if 'eval_loss' in e]\n",
    "\n",
    "plt.figure(figsize=(10, 6))\n",
    "plt.plot(training_loss, label='Training loss')\n",
    "plt.plot(validation_loss, label='Validation loss')\n",
    "plt.title('Training and Validation Loss')\n",
    "plt.xlabel('Epochs')\n",
    "plt.ylabel('Loss')\n",
    "plt.legend()\n",
    "plt.show()"
   ]
  }
 ],
 "metadata": {
  "kernelspec": {
   "display_name": "master",
   "language": "python",
   "name": "python3"
  },
  "language_info": {
   "codemirror_mode": {
    "name": "ipython",
    "version": 3
   },
   "file_extension": ".py",
   "mimetype": "text/x-python",
   "name": "python",
   "nbconvert_exporter": "python",
   "pygments_lexer": "ipython3",
   "version": "3.11.7"
  }
 },
 "nbformat": 4,
 "nbformat_minor": 2
}
